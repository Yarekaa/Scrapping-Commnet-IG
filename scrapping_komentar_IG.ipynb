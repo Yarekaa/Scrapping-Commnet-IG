{
 "cells": [
  {
   "attachments": {},
   "cell_type": "markdown",
   "metadata": {},
   "source": [
    "Get username dan password untuk login ke instagram"
   ]
  },
  {
   "cell_type": "code",
   "execution_count": 1,
   "metadata": {},
   "outputs": [],
   "source": [
    "import json\n",
    "import getpass\n",
    "\n",
    "def getdata():\n",
    "    data = {}\n",
    "    data['username'] = input(\"Masukkan username: \")\n",
    "    # input password secara tersembunyi dan balik \n",
    "    reversed_password = getpass.getpass(\"Masukkan password: \")[::-1]\n",
    "    data['password'] = reversed_password\n",
    "\n",
    "    # write data to json file\n",
    "    with open('data.json', 'w') as outfile:\n",
    "        json.dump(data, outfile)\n",
    "\n",
    "getdata()"
   ]
  },
  {
   "attachments": {},
   "cell_type": "markdown",
   "metadata": {},
   "source": [
    "Membuka Chrome menggunakan webdriver"
   ]
  },
  {
   "cell_type": "code",
   "execution_count": 9,
   "metadata": {},
   "outputs": [],
   "source": [
    "from selenium import webdriver\n",
    "from selenium.webdriver.chrome.options import Options\n",
    "from selenium.webdriver.support.ui import WebDriverWait\n",
    "from selenium.webdriver.support import expected_conditions as EC\n",
    "from selenium.webdriver.common.keys import Keys\n",
    "from selenium.webdriver.common.by import By\n",
    "import pandas as pd\n",
    "import json\n",
    "import time"
   ]
  },
  {
   "cell_type": "code",
   "execution_count": 10,
   "metadata": {},
   "outputs": [],
   "source": [
    "chrome_options = Options()\n",
    "\n",
    "chrome_options.add_argument(\"--headless\")\n",
    "# argumen to disable notification\n",
    "chrome_options.add_argument(\"--disable-notifications\")\n",
    "# argumen to disable settings infobar\n",
    "chrome_options.add_argument(\"--disable-infobars\")\n",
    "chrome_options.add_argument(\"--incognito\")\n",
    "# window size maximize\n",
    "chrome_options.add_argument(\"--window-size=1920,1080\")\n",
    "driver = webdriver.Chrome()\n",
    "driver.get(\"https://www.instagram.com/\")"
   ]
  },
  {
   "attachments": {},
   "cell_type": "markdown",
   "metadata": {},
   "source": [
    "Login to instagram"
   ]
  },
  {
   "cell_type": "code",
   "execution_count": 11,
   "metadata": {},
   "outputs": [],
   "source": [
    "time.sleep(3)\n",
    "\n",
    "# take data from json file\n",
    "with open('data.json') as json_file:\n",
    "    data = json.load(json_file)\n",
    "    data_username = data['username']\n",
    "    data_password = data['password']\n",
    "\n",
    "    unreversed_password = data_password[::-1]\n",
    "\n",
    "\n",
    "unamebox = driver.find_element(By.NAME, \"username\")\n",
    "unamebox.send_keys(data_username)\n",
    "\n",
    "pwbox = driver.find_element(By.NAME, \"password\")\n",
    "pwbox.send_keys(unreversed_password)\n",
    "\n",
    "pwbox.send_keys(Keys.ENTER)"
   ]
  },
  {
   "cell_type": "code",
   "execution_count": 12,
   "metadata": {},
   "outputs": [],
   "source": [
    "time.sleep(5)\n",
    "driver.find_element(By.XPATH, \"/html/body/div[2]/div/div/div[2]/div/div/div/div[1]/div[1]/div[2]/section/main/div/div/div/div/div\").click()\n",
    "time.sleep(3)\n",
    "driver.find_element(By.XPATH, \"/html/body/div[2]/div/div/div[3]/div/div/div[1]/div/div[2]/div/div/div/div/div[2]/div/div/div[3]/button[2]\").click()"
   ]
  },
  {
   "cell_type": "code",
   "execution_count": 13,
   "metadata": {},
   "outputs": [],
   "source": [
    "driver.find_element(By.XPATH, \"/html/body/div[2]/div/div/div[2]/div/div/div/div[1]/div[1]/div[1]/div/div/div/div/div[2]/div[2]/span/div/a/div\").click()\n",
    "time.sleep(3)\n",
    "searchbox = driver.find_element(By.CLASS_NAME, \"_aauy\")\n",
    "time.sleep(5)\n",
    "\n",
    "searchbox.send_keys(\"ittelkom\")\n",
    "\n",
    "time.sleep(3)\n",
    "driver.find_element(By.XPATH, \"/html/body/div[2]/div/div/div[2]/div/div/div/div[1]/div[1]/div[1]/div/div/div[2]/div/div/div[2]/div[2]/div/div[1]/a\").click()"
   ]
  },
  {
   "attachments": {},
   "cell_type": "markdown",
   "metadata": {},
   "source": [
    "Scrapping comment"
   ]
  },
  {
   "cell_type": "code",
   "execution_count": 14,
   "metadata": {},
   "outputs": [],
   "source": [
    "time.sleep(5)\n",
    "\n",
    "post_list = [\n",
    "    \"/html/body/div[2]/div/div/div[2]/div/div/div/div[1]/div[1]/div[2]/div[2]/section/main/div/div[3]/article/div[1]/div/div[1]/div[1]/a\",\n",
    "    \"/html/body/div[2]/div/div/div[2]/div/div/div/div[1]/div[1]/div[2]/div[2]/section/main/div/div[3]/article/div[1]/div/div[1]/div[2]/a\",\n",
    "    \"/html/body/div[2]/div/div/div[2]/div/div/div/div[1]/div[1]/div[2]/div[2]/section/main/div/div[3]/article/div[1]/div/div[1]/div[3]/a\",\n",
    "    \"/html/body/div[2]/div/div/div[2]/div/div/div/div[1]/div[1]/div[2]/div[2]/section/main/div/div[3]/article/div[1]/div/div[2]/div[1]/a\",\n",
    "    \"/html/body/div[2]/div/div/div[2]/div/div/div/div[1]/div[1]/div[2]/div[2]/section/main/div/div[3]/article/div[1]/div/div[2]/div[2]/a\",\n",
    "    \"/html/body/div[2]/div/div/div[2]/div/div/div/div[1]/div[1]/div[2]/div[2]/section/main/div/div[3]/article/div[1]/div/div[2]/div[3]/a\",\n",
    "]\n",
    "\n",
    "# scrap comment dari post_list\n",
    "for post in post_list:\n",
    "    driver.find_element(By.XPATH, post).click()\n",
    "    time.sleep(3)\n",
    "    blok_komentar = driver.find_elements(By.CLASS_NAME, \"_a9zm\")\n",
    "    len(blok_komentar)\n",
    "\n",
    "    # membuat list kosong untuk menampung data\n",
    "    list_komentar = []\n",
    "\n",
    "    # looping untuk mengambil komentar dari setiap postingan\n",
    "    for i in range(len(blok_komentar)):\n",
    "        komentar = blok_komentar[i].get_attribute(\"textContent\")\n",
    "        list_komentar.append(komentar)\n",
    "\n",
    "    # export ke json dengan nama kolom yang berbeda tiap postingan dan digabungkan kedalam 1 file\n",
    "    df = pd.DataFrame(list_komentar, columns=['komentar pada post ke-'+str(post_list.index(post)+1)])\n",
    "    df.to_json('komentar.json', orient='records', lines=True, mode='a')\n",
    "\n",
    "    driver.find_element(By.XPATH, \"/html/body/div[2]/div/div/div[3]/div/div/div[1]/div/div[2]\").click()\n",
    "    \n",
    "    time.sleep(3)\n",
    "\n",
    "driver.quit()"
   ]
  }
 ],
 "metadata": {
  "kernelspec": {
   "display_name": "Python 3",
   "language": "python",
   "name": "python3"
  },
  "language_info": {
   "codemirror_mode": {
    "name": "ipython",
    "version": 3
   },
   "file_extension": ".py",
   "mimetype": "text/x-python",
   "name": "python",
   "nbconvert_exporter": "python",
   "pygments_lexer": "ipython3",
   "version": "3.11.0"
  },
  "orig_nbformat": 4
 },
 "nbformat": 4,
 "nbformat_minor": 2
}
